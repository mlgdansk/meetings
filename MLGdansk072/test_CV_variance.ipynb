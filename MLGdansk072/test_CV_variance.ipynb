{
 "cells": [
  {
   "cell_type": "code",
   "execution_count": 1,
   "metadata": {},
   "outputs": [],
   "source": [
    "from rCVrs import *\n",
    "\n",
    "from sklearn.datasets import make_circles\n",
    "from sklearn.ensemble import RandomForestClassifier\n",
    "from sklearn.model_selection import cross_val_score, StratifiedKFold\n",
    "\n",
    "import pandas as pd\n",
    "import numpy as np\n",
    "\n",
    "from copy import copy\n",
    "\n",
    "import datetime"
   ]
  },
  {
   "cell_type": "code",
   "execution_count": 2,
   "metadata": {},
   "outputs": [],
   "source": [
    "data_prod_params_base = {'n_samples':500, 'shuffle':True, 'random_state':1234, 'factor':0.6}"
   ]
  },
  {
   "cell_type": "code",
   "execution_count": 3,
   "metadata": {},
   "outputs": [],
   "source": [
    "forest_hyperparams = {\n",
    "    'forest_hyperparams_0':{'max_depth': 7, 'max_features': 1.0,    'max_leaf_nodes': 17, 'min_samples_leaf': 11, 'n_estimators': 3,  'n_jobs': -1, 'class_weight': 'balanced',           'min_samples_split': 8, 'criterion': 'entropy'},\n",
    "    'forest_hyperparams_1':{'max_depth': 8, 'max_features': 'sqrt', 'max_leaf_nodes': 7,  'min_samples_leaf': 91, 'n_estimators': 9,  'n_jobs': -1, 'class_weight': 'balanced',           'min_samples_split': 2, 'criterion': 'entropy'},\n",
    "    'forest_hyperparams_2':{'max_depth': 4, 'max_features': 1.0,    'max_leaf_nodes': 9,  'min_samples_leaf': 1,  'n_estimators': 27, 'n_jobs': -1, 'class_weight': 'balanced',           'min_samples_split': 2, 'criterion': 'gini'},\n",
    "    'forest_hyperparams_3':{'max_depth': 9, 'max_features': 'log2', 'max_leaf_nodes': 18, 'min_samples_leaf': 11, 'n_estimators': 9,  'n_jobs': -1, 'class_weight': 'balanced_subsample', 'min_samples_split': 2, 'criterion': 'entropy'},\n",
    "}"
   ]
  },
  {
   "cell_type": "code",
   "execution_count": 4,
   "metadata": {},
   "outputs": [
    {
     "name": "stdout",
     "output_type": "stream",
     "text": [
      "noise 0.4 2019-10-02 14:01:34.485936\n",
      "noise 0.5 2019-10-02 14:08:41.137242\n",
      "noise 0.6 2019-10-02 14:15:47.147821\n"
     ]
    }
   ],
   "source": [
    "results = []\n",
    "\n",
    "for noise in [0.4, 0.5, 0.6]:\n",
    "    print('noise', noise, datetime.datetime.now())\n",
    "    # create data with different lvls of noise\n",
    "    data_params_tmp = copy(data_prod_params_base)\n",
    "    data_params_tmp['noise'] = noise\n",
    "    X, y = make_circles(**data_params_tmp)\n",
    "        \n",
    "    for set_seed_forest in [True, False]:        \n",
    "        for forest_name, forest_hyperp in forest_hyperparams.items():\n",
    "            # create forests with different random seeds and different\n",
    "            # hyperparams versions\n",
    "            clf = RandomForestClassifier(**forest_hyperp)\n",
    "            \n",
    "            if set_seed_forest:\n",
    "                clf.random_state = 1234\n",
    "            else:\n",
    "                pass\n",
    "\n",
    "            for shuffle in [True, False]:\n",
    "                for x in range(60):\n",
    "                    splitter = StratifiedKFold(n_splits=5, shuffle=shuffle)\n",
    "                    scores = cross_val_score(clf, X, y, cv=splitter, n_jobs=-1, scoring='roc_auc')\n",
    "\n",
    "                    results.append({\n",
    "                        'data_noise':noise,\n",
    "                        'forest_seed':set_seed_forest,\n",
    "                        'forest_name':forest_name,\n",
    "                        'shuffle':shuffle,\n",
    "                        'scores':scores,\n",
    "                    })"
   ]
  },
  {
   "cell_type": "code",
   "execution_count": 5,
   "metadata": {},
   "outputs": [],
   "source": [
    "res_df = pd.DataFrame(results)\n",
    "res_df['mean'] = res_df['scores'].map(lambda x: np.mean(x))\n",
    "res_df['std'] = res_df['scores'].map(lambda x: np.std(x))"
   ]
  },
  {
   "cell_type": "code",
   "execution_count": 9,
   "metadata": {},
   "outputs": [],
   "source": [
    "res_df.to_csv('res_raw.csv', index=False)"
   ]
  },
  {
   "cell_type": "code",
   "execution_count": 10,
   "metadata": {},
   "outputs": [],
   "source": [
    "res_grouped = res_df.groupby(by=['data_noise','forest_name','forest_seed', 'shuffle']).std().reset_index()\n",
    "res_grouped.rename({'mean':'std(mean)', 'std':'std(std)'}, axis=1).to_csv('res_grouped.csv', index=False)"
   ]
  }
 ],
 "metadata": {
  "kernelspec": {
   "display_name": "Python 3",
   "language": "python",
   "name": "python3"
  },
  "language_info": {
   "codemirror_mode": {
    "name": "ipython",
    "version": 3
   },
   "file_extension": ".py",
   "mimetype": "text/x-python",
   "name": "python",
   "nbconvert_exporter": "python",
   "pygments_lexer": "ipython3",
   "version": "3.7.4"
  }
 },
 "nbformat": 4,
 "nbformat_minor": 2
}
