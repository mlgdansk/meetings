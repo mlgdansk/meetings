{
 "cells": [
  {
   "cell_type": "markdown",
   "metadata": {},
   "source": [
    "# ML Gdansk (1 VI 2020)"
   ]
  },
  {
   "cell_type": "code",
   "execution_count": null,
   "metadata": {},
   "outputs": [],
   "source": [
    "import os\n",
    "import sys\n",
    "import numpy as np\n",
    "import tensorflow as tf\n",
    "import matplotlib.pyplot as plt\n",
    "import tensorflow_datasets as tfds\n",
    "\n",
    "data_path = \"data_location3\"\n",
    "sys.path.insert(0, \"/home/jupyter/cache_disk2/MLG1VI2020\")\n",
    "from ds_utils_MLG import *\n",
    "\n",
    "print(f'TensorFlow version: {tf.__version__}')"
   ]
  },
  {
   "cell_type": "code",
   "execution_count": null,
   "metadata": {},
   "outputs": [],
   "source": [
    "TARGET_SIZE = (224,224,3)\n",
    "N_Classes = 196"
   ]
  },
  {
   "cell_type": "code",
   "execution_count": null,
   "metadata": {},
   "outputs": [],
   "source": [
    "from tensorflow.keras.applications.mobilenet_v2 import MobileNetV2, preprocess_input\n",
    "from tensorflow.keras.layers import Input, Dense, Dropout, GlobalAveragePooling2D, Activation, Lambda, Flatten\n",
    "from tensorflow.keras.models import Model, load_model"
   ]
  },
  {
   "cell_type": "markdown",
   "metadata": {},
   "source": [
    "### 1. Download and prepare dataset (make TFRecords)"
   ]
  },
  {
   "cell_type": "code",
   "execution_count": null,
   "metadata": {},
   "outputs": [],
   "source": [
    "(ds_train, ds_valid, ds_test), ds_info = tfds.load(\n",
    "    'cars196',    \n",
    "    split=['train', 'test[50%:]', 'test[:50%]'],    \n",
    "    as_supervised=True,\n",
    "    with_info=True)"
   ]
  },
  {
   "cell_type": "code",
   "execution_count": null,
   "metadata": {},
   "outputs": [],
   "source": [
    "ds_info"
   ]
  },
  {
   "cell_type": "markdown",
   "metadata": {},
   "source": [
    "See what we got:"
   ]
  },
  {
   "cell_type": "code",
   "execution_count": null,
   "metadata": {},
   "outputs": [],
   "source": [
    "display_images_and_labels_from_dataset(dataset=ds_train)"
   ]
  },
  {
   "cell_type": "code",
   "execution_count": null,
   "metadata": {},
   "outputs": [],
   "source": [
    "def get_filtered_resized_dataset(dataset, filter_label_value):\n",
    "    dataset = dataset.filter(lambda image, label: tf.equal(label, filter_label_value))\n",
    "    return dataset.map(lambda image, label: (tf.cast(tf.image.resize(image, TARGET_SIZE[:-1]),tf.uint8), label))    "
   ]
  },
  {
   "cell_type": "code",
   "execution_count": null,
   "metadata": {},
   "outputs": [],
   "source": [
    "some_filtered_ds = get_filtered_resized_dataset(dataset=ds_train, filter_label_value=194)\n",
    "display_images_and_labels_from_dataset(some_filtered_ds)"
   ]
  },
  {
   "cell_type": "code",
   "execution_count": null,
   "metadata": {},
   "outputs": [],
   "source": [
    "from tqdm.notebook import tqdm as ntqdm\n",
    "\n",
    "def produce_TFRs_from_filtered_datasets(dataset, subset):\n",
    "    for idx in ntqdm( range(N_Classes) ):\n",
    "        label = str(idx).zfill(3)\n",
    "        some_filtered_dataset = get_filtered_resized_dataset(dataset,filter_label_value=idx)\n",
    "        dataset_to_TFR(some_filtered_dataset, prefix_target_filename=f'{subset}_{label}', features_keys=['img','label'])\n",
    "        print(f'TFR for class {idx} finished!')"
   ]
  },
  {
   "cell_type": "code",
   "execution_count": null,
   "metadata": {},
   "outputs": [],
   "source": [
    "produce_TFRs_from_filtered_datasets(dataset=ds_train, subset=f\"{data_path}/train_L_\")"
   ]
  },
  {
   "cell_type": "code",
   "execution_count": null,
   "metadata": {},
   "outputs": [],
   "source": [
    "produce_TFRs_from_filtered_datasets(dataset=ds_valid, subset=f\"{data_path}/valid_L_\")"
   ]
  },
  {
   "cell_type": "code",
   "execution_count": null,
   "metadata": {},
   "outputs": [],
   "source": [
    "produce_TFRs_from_filtered_datasets(dataset=ds_test, subset=f\"{data_path}/test_L_\")"
   ]
  }
 ],
 "metadata": {
  "kernelspec": {
   "display_name": "Python 3",
   "language": "python",
   "name": "python3"
  },
  "language_info": {
   "codemirror_mode": {
    "name": "ipython",
    "version": 3
   },
   "file_extension": ".py",
   "mimetype": "text/x-python",
   "name": "python",
   "nbconvert_exporter": "python",
   "pygments_lexer": "ipython3",
   "version": "3.7.6"
  }
 },
 "nbformat": 4,
 "nbformat_minor": 4
}
