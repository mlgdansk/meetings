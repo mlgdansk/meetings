{
 "cells": [
  {
   "cell_type": "code",
   "execution_count": 6,
   "metadata": {},
   "outputs": [
    {
     "name": "stderr",
     "output_type": "stream",
     "text": [
      "[nltk_data] Downloading package stopwords to\n",
      "[nltk_data]     /home/pwierzgala/nltk_data...\n",
      "[nltk_data]   Package stopwords is already up-to-date!\n",
      "[nltk_data] Downloading package genesis to\n",
      "[nltk_data]     /home/pwierzgala/nltk_data...\n",
      "[nltk_data]   Unzipping corpora/genesis.zip.\n"
     ]
    },
    {
     "data": {
      "text/plain": [
       "True"
      ]
     },
     "execution_count": 6,
     "metadata": {},
     "output_type": "execute_result"
    }
   ],
   "source": [
    "import nltk\n",
    "nltk.download('stopwords')\n",
    "nltk.download('genesis')"
   ]
  },
  {
   "cell_type": "markdown",
   "metadata": {},
   "source": [
    "# Fasttext"
   ]
  },
  {
   "cell_type": "code",
   "execution_count": 8,
   "metadata": {},
   "outputs": [],
   "source": [
    "from gensim.models.fasttext import FastText\n",
    "from nltk.corpus import genesis, stopwords\n",
    "\n",
    "def preprocess(sentence, stop_words):\n",
    "    sentence = [word.lower() for word in sentence if word.isalpha()]\n",
    "    sentence = [word for word in sentence if word not in stop_words]\n",
    "    return sentence\n",
    "\n",
    "\n",
    "stop_words = set(stopwords.words('english'))\n",
    "stop_words.update([\"that\", \"cannot\", \"thus\", \"here\", \"where\", \"whether\",\n",
    "                   \"hath\", \"unto\", \"neither\", \"wherefore\", \"whither\",\n",
    "                   \"could\", \"thence\", \"mayest\", \"therein\", \"wherein\"])\n",
    "\n",
    "sentences = genesis.sents('english-kjv.txt')\n",
    "sentences = [preprocess(sentence, stop_words) for sentence in sentences]\n",
    "\n",
    "ft_model = FastText(\n",
    "    sentences=sentences,\n",
    "    sg=1,\n",
    "    iter=50,\n",
    "    size=10\n",
    ")"
   ]
  },
  {
   "cell_type": "markdown",
   "metadata": {},
   "source": [
    "## Model vocabulary"
   ]
  },
  {
   "cell_type": "code",
   "execution_count": 9,
   "metadata": {},
   "outputs": [
    {
     "data": {
      "text/plain": [
       "['beginning', 'god', 'created', 'heaven', 'earth']"
      ]
     },
     "execution_count": 9,
     "metadata": {},
     "output_type": "execute_result"
    }
   ],
   "source": [
    "[word for word in ft_model.wv.vocab][:5]"
   ]
  },
  {
   "cell_type": "markdown",
   "metadata": {},
   "source": [
    "## Word vector"
   ]
  },
  {
   "cell_type": "code",
   "execution_count": 11,
   "metadata": {},
   "outputs": [
    {
     "name": "stdout",
     "output_type": "stream",
     "text": [
      "[-0.1857974   0.82725245  0.08990229 -0.58054435  0.67336184 -1.4477103\n",
      "  0.66258544  0.02946591 -1.3454525   0.69255394]\n"
     ]
    }
   ],
   "source": [
    "print(ft_model.wv[\"blood\"])"
   ]
  },
  {
   "cell_type": "markdown",
   "metadata": {},
   "source": [
    "## Most similar words"
   ]
  },
  {
   "cell_type": "code",
   "execution_count": 12,
   "metadata": {},
   "outputs": [
    {
     "data": {
      "text/plain": [
       "[('woman', 0.9586037993431091),\n",
       " ('surely', 0.9291962385177612),\n",
       " ('sorrow', 0.9276148080825806)]"
      ]
     },
     "execution_count": 12,
     "metadata": {},
     "output_type": "execute_result"
    }
   ],
   "source": [
    "ft_model.wv.most_similar(positive=[\"serpent\"], topn=3)"
   ]
  },
  {
   "cell_type": "markdown",
   "metadata": {},
   "source": [
    "## Words similarity"
   ]
  },
  {
   "cell_type": "code",
   "execution_count": 13,
   "metadata": {},
   "outputs": [
    {
     "data": {
      "text/plain": [
       "0.92658615"
      ]
     },
     "execution_count": 13,
     "metadata": {},
     "output_type": "execute_result"
    }
   ],
   "source": [
    "ft_model.wv.similarity(w1=\"lord\", w2=\"god\")"
   ]
  },
  {
   "cell_type": "markdown",
   "metadata": {},
   "source": [
    "## Mismatched word"
   ]
  },
  {
   "cell_type": "code",
   "execution_count": 14,
   "metadata": {},
   "outputs": [
    {
     "data": {
      "text/plain": [
       "'egypt'"
      ]
     },
     "execution_count": 14,
     "metadata": {},
     "output_type": "execute_result"
    }
   ],
   "source": [
    "ft_model.wv.doesnt_match(list(\"serpent tree fruit egypt\".split()))"
   ]
  },
  {
   "cell_type": "markdown",
   "metadata": {},
   "source": [
    "## Check if word exists im model"
   ]
  },
  {
   "cell_type": "code",
   "execution_count": 15,
   "metadata": {},
   "outputs": [
    {
     "name": "stdout",
     "output_type": "stream",
     "text": [
      "False\n",
      "True\n"
     ]
    }
   ],
   "source": [
    "print(\"cat\" in ft_model.wv.vocab)\n",
    "print(\"cattle\" in ft_model.wv.vocab)"
   ]
  },
  {
   "cell_type": "markdown",
   "metadata": {},
   "source": [
    "## Check if vector exists im model"
   ]
  },
  {
   "cell_type": "code",
   "execution_count": null,
   "metadata": {},
   "outputs": [],
   "source": [
    "print(\"cat\" in ft_model.wv)\n",
    "print(\"cattle\" in ft_model.wv)"
   ]
  },
  {
   "cell_type": "markdown",
   "metadata": {},
   "source": [
    "## Pretrained vectors"
   ]
  },
  {
   "cell_type": "code",
   "execution_count": null,
   "metadata": {},
   "outputs": [],
   "source": [
    "from gensim.models import KeyedVectors\n",
    "\n",
    "# Create language model\n",
    "# Download pretrained vectors from: https://fasttext.cc/docs/en/english-vectors.html\n",
    "en_model = KeyedVectors.load_word2vec_format('wiki-news-300d-1M.vec')\n",
    "\n",
    "# Printing dimension of a word vector.\n",
    "print(\"Dimension of a word vector: {}\".format(\n",
    "    len(en_model[words[0]])\n",
    "))\n",
    "\n",
    "# Print vector of a word.\n",
    "print(\"Vector components of a word: {}\".format(\n",
    "    en_model[words[0]]\n",
    "))"
   ]
  },
  {
   "cell_type": "code",
   "execution_count": null,
   "metadata": {},
   "outputs": [],
   "source": [
    "def print_related(vec, *words):\n",
    "    \"\"\"\n",
    "    Parameters\n",
    "    ----------\n",
    "    vec : ndarray\n",
    "        Vector representing a word for which similar words will be displayed.\n",
    "    words : list of strings\n",
    "        Words that should be excluded from similar words.\n",
    "    \"\"\"\n",
    "    similar_words = en_model.similar_by_vector(vec)\n",
    "    similar_words = [word for word, proba in similar_words if word not in words]\n",
    "    print(similar_words)\n",
    "    print(similar_words[0])\n",
    "\n",
    "# king - man = ? - woman\n",
    "vec = en_model[\"king\"] - en_model[\"man\"] + en_model[\"woman\"]\n",
    "words = [\"king\", \"man\", \"woman\"]\n",
    "print_related(vec, *words)\n",
    "\n",
    "# book - reading = ? - watching\n",
    "vec = en_model[\"book\"] - en_model[\"reading\"] + en_model[\"watching\"]\n",
    "words = [\"book\", \"reading\", \"watching\"]\n",
    "print_related(vec, *words)\n",
    "\n",
    "# walk - walked = ? - went\n",
    "vec = en_model[\"walk\"] - en_model[\"walked\"] + en_model[\"went\"]\n",
    "words = [\"walk\", \"walked\", \"went\"]\n",
    "print_related(vec, *words)\n",
    "\n",
    "# paris - france = poland - ?\n",
    "vec = en_model[\"paris\"] - en_model[\"france\"] + en_model[\"poland\"]\n",
    "words = [\"france\", \"paris\", \"poland\"]\n",
    "print_related(vec, *words)"
   ]
  }
 ],
 "metadata": {
  "kernelspec": {
   "display_name": "Python 3",
   "language": "python",
   "name": "python3"
  },
  "language_info": {
   "codemirror_mode": {
    "name": "ipython",
    "version": 3
   },
   "file_extension": ".py",
   "mimetype": "text/x-python",
   "name": "python",
   "nbconvert_exporter": "python",
   "pygments_lexer": "ipython3",
   "version": "3.6.6"
  }
 },
 "nbformat": 4,
 "nbformat_minor": 2
}
