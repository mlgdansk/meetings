{
 "cells": [
  {
   "cell_type": "code",
   "execution_count": 17,
   "metadata": {},
   "outputs": [
    {
     "name": "stdout",
     "output_type": "stream",
     "text": [
      "The autoreload extension is already loaded. To reload it, use:\n",
      "  %reload_ext autoreload\n"
     ]
    }
   ],
   "source": [
    "%load_ext autoreload\n",
    "%autoreload 2"
   ]
  },
  {
   "cell_type": "markdown",
   "metadata": {},
   "source": [
    "# Transition table"
   ]
  },
  {
   "cell_type": "code",
   "execution_count": 18,
   "metadata": {},
   "outputs": [
    {
     "name": "stdout",
     "output_type": "stream",
     "text": [
      "Transition counts:\n",
      "       osa  koło  nosa  lata  mucha  ucha  bąk  rąk\n",
      "bąk    0.0   1.0   0.0   0.0    0.0   0.0  0.0  0.0\n",
      "koło   0.0   0.0   1.0   0.0    0.0   1.0  0.0  1.0\n",
      "lata   1.0   0.0   0.0   0.0    1.0   0.0  1.0  0.0\n",
      "mucha  0.0   1.0   0.0   0.0    0.0   0.0  0.0  0.0\n",
      "nosa   0.0   0.0   0.0   1.0    0.0   0.0  0.0  0.0\n",
      "osa    0.0   1.0   0.0   0.0    0.0   0.0  0.0  0.0\n",
      "ucha   0.0   0.0   0.0   1.0    0.0   0.0  0.0  0.0\n",
      "\n",
      "Transition probabilities:\n",
      "        osa  koło  nosa  lata  mucha  ucha   bąk   rąk\n",
      "bąk    0.00   1.0  0.00   0.0   0.00  0.00  0.00  0.00\n",
      "koło   0.00   0.0  0.33   0.0   0.00  0.33  0.00  0.33\n",
      "lata   0.33   0.0  0.00   0.0   0.33  0.00  0.33  0.00\n",
      "mucha  0.00   1.0  0.00   0.0   0.00  0.00  0.00  0.00\n",
      "nosa   0.00   0.0  0.00   1.0   0.00  0.00  0.00  0.00\n",
      "osa    0.00   1.0  0.00   0.0   0.00  0.00  0.00  0.00\n",
      "ucha   0.00   0.0  0.00   1.0   0.00  0.00  0.00  0.00\n"
     ]
    }
   ],
   "source": [
    "from collections import defaultdict\n",
    "import nltk\n",
    "\n",
    "def count_transitions(tokens):\n",
    "    transition_counts = defaultdict(lambda: defaultdict(int))\n",
    "    for i in range(len(tokens)-1):\n",
    "        curent, next_ = tokens[i], tokens[i + 1]\n",
    "        transition_counts[next_][curent] += 1\n",
    "    return transition_counts\n",
    "\n",
    "text = \"\"\"Lata osa koło nosa\n",
    "Lata mucha koło ucha\n",
    "Lata bąk koło rąk\"\"\"\n",
    "\n",
    "tokens = nltk.word_tokenize(text)\n",
    "tokens = [token.lower() for token in tokens if token.isalpha()]\n",
    "transitions = count_transitions(tokens)\n",
    "\n",
    "print(\"Transition counts:\")\n",
    "df = pd.DataFrame(data=transitions)\n",
    "df.fillna(value=0, inplace=True)\n",
    "print(df)\n",
    "\n",
    "print(\"\\nTransition probabilities:\")\n",
    "df = df.div(df.sum(axis=1), axis=0)\n",
    "df.fillna(value=0, inplace=True)\n",
    "print(df)"
   ]
  },
  {
   "cell_type": "code",
   "execution_count": 19,
   "metadata": {},
   "outputs": [
    {
     "name": "stdout",
     "output_type": "stream",
     "text": [
      "Transition counts:\n",
      "            koło  nosa  lata  mucha  ucha  bąk  rąk\n",
      "bąk koło     0.0   0.0   0.0    0.0   0.0  0.0  1.0\n",
      "koło nosa    0.0   0.0   1.0    0.0   0.0  0.0  0.0\n",
      "koło ucha    0.0   0.0   1.0    0.0   0.0  0.0  0.0\n",
      "lata bąk     1.0   0.0   0.0    0.0   0.0  0.0  0.0\n",
      "lata mucha   1.0   0.0   0.0    0.0   0.0  0.0  0.0\n",
      "lata osa     1.0   0.0   0.0    0.0   0.0  0.0  0.0\n",
      "mucha koło   0.0   0.0   0.0    0.0   1.0  0.0  0.0\n",
      "nosa lata    0.0   0.0   0.0    1.0   0.0  0.0  0.0\n",
      "osa koło     0.0   1.0   0.0    0.0   0.0  0.0  0.0\n",
      "ucha lata    0.0   0.0   0.0    0.0   0.0  1.0  0.0\n",
      "\n",
      "Transition probabilities:\n",
      "            koło  nosa  lata  mucha  ucha  bąk  rąk\n",
      "bąk koło     0.0   0.0   0.0    0.0   0.0  0.0  1.0\n",
      "koło nosa    0.0   0.0   1.0    0.0   0.0  0.0  0.0\n",
      "koło ucha    0.0   0.0   1.0    0.0   0.0  0.0  0.0\n",
      "lata bąk     1.0   0.0   0.0    0.0   0.0  0.0  0.0\n",
      "lata mucha   1.0   0.0   0.0    0.0   0.0  0.0  0.0\n",
      "lata osa     1.0   0.0   0.0    0.0   0.0  0.0  0.0\n",
      "mucha koło   0.0   0.0   0.0    0.0   1.0  0.0  0.0\n",
      "nosa lata    0.0   0.0   0.0    1.0   0.0  0.0  0.0\n",
      "osa koło     0.0   1.0   0.0    0.0   0.0  0.0  0.0\n",
      "ucha lata    0.0   0.0   0.0    0.0   0.0  1.0  0.0\n"
     ]
    }
   ],
   "source": [
    "from collections import defaultdict\n",
    "import nltk\n",
    "\n",
    "def count_transitions(tokens, n):\n",
    "    transition_counts = defaultdict(lambda: defaultdict(int))\n",
    "    for i in range(len(tokens)-n):\n",
    "        curent, next_ = \" \".join(tokens[i:i+n]), tokens[i + n]\n",
    "        transition_counts[next_][curent] += 1\n",
    "    return transition_counts\n",
    "\n",
    "text = \"\"\"Lata osa koło nosa\n",
    "Lata mucha koło ucha\n",
    "Lata bąk koło rąk\"\"\"\n",
    "\n",
    "tokens = nltk.word_tokenize(text)\n",
    "tokens = [token.lower() for token in tokens if token.isalpha()]\n",
    "transitions = count_transitions(tokens, n=2)\n",
    "\n",
    "print(\"Transition counts:\")\n",
    "df = pd.DataFrame(data=transitions)\n",
    "df.fillna(value=0, inplace=True)\n",
    "print(df)\n",
    "\n",
    "print(\"\\nTransition probabilities:\")\n",
    "df = df.div(df.sum(axis=1), axis=0)\n",
    "df.fillna(value=0, inplace=True)\n",
    "print(df)"
   ]
  },
  {
   "cell_type": "markdown",
   "metadata": {},
   "source": [
    "# Text generation"
   ]
  },
  {
   "cell_type": "code",
   "execution_count": 20,
   "metadata": {},
   "outputs": [
    {
     "name": "stdout",
     "output_type": "stream",
     "text": [
      "esarzu! Litwa ochotnika;\n",
      "Kto wie, co się dziecię krzykliwe złożone wszyscy, kiedy resztę ułożym.\n",
      "\n",
      "    Zosia mówił — księże bernardyn wzruszenie przeczył i z powieści, pytań,\n",
      "Wykrzykniono znowu. Tryumf był niezmiennym,\n",
      "Z oczyma wzniesionymi w niewoli, okuty w powiciu,\n",
      "Ja tylko zgadywano, że pan grosza brak w Księstwa uciekają strwożył.\n",
      "Aż gdy na rozbój zanosi.\n",
      "Jęknęli wszystkie razem dzięcielina pała,\n",
      "A znów trzymając każdy znawca ten rzęd chwalił,\n",
      "Tyle scen dramatycznych wrzask i gęsto gniazdem są owad\n"
     ]
    }
   ],
   "source": [
    "from collections import defaultdict, Counter\n",
    "import random\n",
    "\n",
    "class NGramCharModel:\n",
    "\n",
    "    def __init__(self, file_path, n):\n",
    "        \"\"\"\n",
    "        Parameters\n",
    "        ----------\n",
    "        file_path : str\n",
    "            Path to file which will be used to create language model.\n",
    "        n : int\n",
    "            Length of characters n-gram.\n",
    "        \"\"\"\n",
    "        self.file_path = file_path\n",
    "        self.n = n\n",
    "        self.model = None\n",
    "\n",
    "    def normalize(self, counter):\n",
    "        \"\"\"\n",
    "        Normalize counts of characters following a n-gram of characters.\n",
    "        Counts are divided by total number of characters that followed\n",
    "        the n-gram resulting in probabilities of characters occurrecnces.\n",
    "\n",
    "        Parameters\n",
    "        ----------\n",
    "        counter : mapping {str: {char: int, ...}}\n",
    "            Character n-grams to occurrences of characters.\n",
    "\n",
    "        Returns\n",
    "        -------\n",
    "        mapping {str: {char: float, ...}}\n",
    "           Character n-grams to probabilities of character occurrences.\n",
    "        \"\"\"\n",
    "        s = float(sum(counter.values()))\n",
    "        return [(c, cnt / s) for c, cnt in counter.items()]\n",
    "\n",
    "    def train(self):\n",
    "        \"\"\" Trains a language model. \"\"\"\n",
    "        data = open(self.file_path).read()\n",
    "        model = defaultdict(Counter)\n",
    "        for i in range(len(data)-self.n):\n",
    "            n_gram, c = data[i:i+self.n], data[i+self.n]\n",
    "            model[n_gram][c] += 1\n",
    "        self.model = {n_gram: self.normalize(c) for n_gram, c in model.items()}\n",
    "\n",
    "    def generate_letter(self, history):\n",
    "        \"\"\"\n",
    "        Parameters\n",
    "        ----------\n",
    "        history : str\n",
    "            Text generated so far.\n",
    "\n",
    "        Returns\n",
    "        -------\n",
    "        str\n",
    "            A character.\n",
    "        \"\"\"\n",
    "        n_gram = history[-self.n:]\n",
    "        distribution = self.model[n_gram]\n",
    "        characters, weights = zip(*distribution)\n",
    "        choice = random.choices(population=characters, weights=weights, k=1)[0]\n",
    "        return choice\n",
    "\n",
    "    def generate_text(self, n_letters=500):\n",
    "        \"\"\"\n",
    "        Generate specified number of charactes basing on last charcters n-gram \n",
    "        and probabilities of charcters that can follow it.\n",
    "\n",
    "        Parameters\n",
    "        ----------\n",
    "        n_letters : int\n",
    "            Length of a text to generate.\n",
    "\n",
    "        Returns\n",
    "        -------\n",
    "        str\n",
    "            Generated text.\n",
    "        \"\"\"\n",
    "        history = random.choice(list(self.model))\n",
    "        for _ in range(n_letters):\n",
    "            c = self.generate_letter(history)\n",
    "            history += c\n",
    "        return history\n",
    "\n",
    "\n",
    "if __name__ == \"__main__\":\n",
    "    model = NGramCharModel(file_path=\"pan_tadeusz.txt\", n=7)\n",
    "    model.train()\n",
    "    print(model.generate_text())"
   ]
  },
  {
   "cell_type": "markdown",
   "metadata": {},
   "source": [
    "# Visualization"
   ]
  },
  {
   "cell_type": "code",
   "execution_count": 21,
   "metadata": {},
   "outputs": [
    {
     "data": {
      "image/png": "[encoded data removed]",
      "text/plain": [
       "<Figure size 432x288 with 1 Axes>"
      ]
     },
     "metadata": {
      "needs_background": "light"
     },
     "output_type": "display_data"
    }
   ],
   "source": [
    "import networkx as nx\n",
    "\n",
    "def utf2ascii(s):\n",
    "    for a, b in zip(\"łą\", \"la\"):\n",
    "        s = s.replace(a, b)\n",
    "    return s\n",
    "\n",
    "def count_transitions(tokens, n):\n",
    "    transition_counts = defaultdict(lambda: defaultdict(int))\n",
    "    for i in range(len(tokens)-n):\n",
    "        curent, next_ = \" \".join(tokens[i:i+n]), tokens[i + n]\n",
    "        transition_counts[next_][curent] += 1\n",
    "    return transition_counts\n",
    "\n",
    "text = \"\"\"Lata osa koło nosa\n",
    "Lata mucha koło ucha\n",
    "Lata bąk koło rąk\"\"\"\n",
    "\n",
    "text = utf2ascii(text)  # networkx package doesn't handle UTF characters so they have to be removed.\n",
    "tokens = nltk.word_tokenize(text)\n",
    "tokens = [token.lower() for token in tokens if token.isalpha()]\n",
    "transitions = count_transitions(tokens, n=1)\n",
    "df = pd.DataFrame(data=transitions)\n",
    "df.fillna(value=0, inplace=True)\n",
    "df = df.div(df.sum(axis=1), axis=0)\n",
    "df.fillna(value=0, inplace=True)\n",
    "\n",
    "graph = nx.MultiDiGraph()\n",
    "for row_index in df.index:\n",
    "    for column_header in df.columns:\n",
    "        weight = df.loc[row_index, column_header]\n",
    "        if weight > 0:\n",
    "            weight = \"{:.2f}\".format(weight)\n",
    "            u = row_index\n",
    "            v = column_header\n",
    "            graph.add_edge(u, v, weight=weight, label=weight)\n",
    "\n",
    "pos = nx.drawing.nx_pydot.graphviz_layout(graph, prog='dot')\n",
    "edge_labels = {(u, v): d['label'] for u, v, d in graph.edges(data=True)}\n",
    "nx.draw_networkx(graph, pos)\n",
    "nx.draw_networkx_edge_labels(graph, pos, edge_labels=edge_labels)\n",
    "plt.axis('off')\n",
    "plt.show()"
   ]
  }
 ],
 "metadata": {
  "kernelspec": {
   "display_name": "Python 3",
   "language": "python",
   "name": "python3"
  },
  "language_info": {
   "codemirror_mode": {
    "name": "ipython",
    "version": 3
   },
   "file_extension": ".py",
   "mimetype": "text/x-python",
   "name": "python",
   "nbconvert_exporter": "python",
   "pygments_lexer": "ipython3",
   "version": "3.6.6"
  }
 },
 "nbformat": 4,
 "nbformat_minor": 2
}
